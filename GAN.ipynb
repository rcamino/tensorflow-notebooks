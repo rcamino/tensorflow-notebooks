{
 "cells": [
  {
   "cell_type": "code",
   "execution_count": null,
   "metadata": {
    "collapsed": true
   },
   "outputs": [],
   "source": [
    "import tensorflow as tf\n",
    "import numpy as np\n",
    "import matplotlib.pyplot as plt\n",
    "import matplotlib.gridspec as gridspec\n",
    "\n",
    "import datetime\n",
    "\n",
    "from __future__ import print_function\n",
    "\n",
    "%matplotlib inline"
   ]
  },
  {
   "cell_type": "code",
   "execution_count": null,
   "metadata": {},
   "outputs": [],
   "source": [
    "from tensorflow.examples.tutorials.mnist import input_data\n",
    "mnist = input_data.read_data_sets(\"data/MNIST\", one_hot=True)"
   ]
  },
  {
   "cell_type": "code",
   "execution_count": null,
   "metadata": {
    "collapsed": true
   },
   "outputs": [],
   "source": [
    "image_size = mnist.train.images.shape[1]"
   ]
  },
  {
   "cell_type": "code",
   "execution_count": null,
   "metadata": {
    "collapsed": true
   },
   "outputs": [],
   "source": [
    "batch_size = 128\n",
    "noise_size = 100"
   ]
  },
  {
   "cell_type": "code",
   "execution_count": null,
   "metadata": {
    "collapsed": true
   },
   "outputs": [],
   "source": [
    "def create_weights_and_biases(units_per_layer):\n",
    "    W = []\n",
    "    b = []\n",
    "    for i in range(1, len(units_per_layer)):\n",
    "        W.append(tf.get_variable(\"W\" + str(i), [units_per_layer[i - 1], units_per_layer[i]], dtype=tf.float32,\n",
    "            initializer=tf.contrib.layers.xavier_initializer(seed=1)))\n",
    "        b.append(tf.get_variable(\"b\" + str(i), [units_per_layer[i]], dtype=tf.float32,\n",
    "            initializer=tf.zeros_initializer()))\n",
    "        \n",
    "    theta = []\n",
    "    theta.extend(W)\n",
    "    theta.extend(b)\n",
    "    \n",
    "    return W, b, theta"
   ]
  },
  {
   "cell_type": "code",
   "execution_count": null,
   "metadata": {
    "collapsed": true
   },
   "outputs": [],
   "source": [
    "def discriminator(input_image, W, b):\n",
    "    Z1 = tf.add(tf.matmul(input_image, W[0], name=\"W1xA0\"), b[0], name=\"Z1\")\n",
    "    A1 = tf.nn.relu(Z1, name=\"A1\")\n",
    "    Z2 = tf.add(tf.matmul(A1, W[1], name=\"W2xA1\"), b[1], name=\"Z2\")\n",
    "    A2 = tf.nn.sigmoid(Z2, name=\"A2\")\n",
    "\n",
    "    return A2"
   ]
  },
  {
   "cell_type": "code",
   "execution_count": null,
   "metadata": {
    "collapsed": true
   },
   "outputs": [],
   "source": [
    "def generator(input_noise):\n",
    "    W, b, theta = create_weights_and_biases([noise_size, 128, image_size])\n",
    "    \n",
    "    Z1 = tf.add(tf.matmul(input_noise, W[0], name=\"W1xA0\"), b[0], name=\"Z1\")\n",
    "    A1 = tf.nn.relu(Z1, name=\"A1\")\n",
    "    Z2 = tf.add(tf.matmul(A1, W[1], name=\"W2xA1\"), b[1], name=\"Z2\")\n",
    "    A2 = tf.nn.sigmoid(Z2, name=\"A2\")\n",
    "\n",
    "    return A2, theta"
   ]
  },
  {
   "cell_type": "code",
   "execution_count": null,
   "metadata": {
    "collapsed": true
   },
   "outputs": [],
   "source": [
    "tf.reset_default_graph()\n",
    "\n",
    "X = tf.placeholder(dtype=tf.float32, shape=[None, image_size], name=\"X\")\n",
    "Z = tf.placeholder(dtype=tf.float32, shape=[None, noise_size], name=\"Z\")\n",
    "\n",
    "with tf.variable_scope(\"G\"):\n",
    "    G, G_theta = generator(Z)\n",
    "    \n",
    "with tf.variable_scope(\"D\"):\n",
    "    D_W, D_b, D_theta = create_weights_and_biases([image_size, 128, 1])\n",
    "    \n",
    "    with tf.variable_scope(\"D_X\"):\n",
    "        D_X = discriminator(X, D_W, D_b)\n",
    "        \n",
    "    with tf.variable_scope(\"D_G\"):\n",
    "        D_G = discriminator(G, D_W, D_b)\n",
    "\n",
    "with tf.variable_scope(\"D_optimizer\"):\n",
    "    D_loss = -tf.reduce_mean(tf.log(D_X) + tf.log(1.0 - D_G))\n",
    "    D_optimizer = tf.train.AdamOptimizer().minimize(D_loss, var_list=D_theta)\n",
    "\n",
    "with tf.variable_scope(\"G_optimizer\"):\n",
    "    G_loss = -tf.reduce_mean(tf.log(D_G))\n",
    "    G_optimizer = tf.train.AdamOptimizer().minimize(G_loss, var_list=G_theta)"
   ]
  },
  {
   "cell_type": "code",
   "execution_count": null,
   "metadata": {
    "collapsed": true
   },
   "outputs": [],
   "source": [
    "def sample_noise(m, n):\n",
    "    return np.random.uniform(-1., 1., size=[m, n])"
   ]
  },
  {
   "cell_type": "code",
   "execution_count": null,
   "metadata": {
    "collapsed": true
   },
   "outputs": [],
   "source": [
    "sample_size = 16\n",
    "sample_grid = int(np.ceil(np.sqrt(sample_size)))"
   ]
  },
  {
   "cell_type": "code",
   "execution_count": null,
   "metadata": {
    "collapsed": true
   },
   "outputs": [],
   "source": [
    "def plot_samples(samples):\n",
    "    fig = plt.figure(figsize=(4, 4))\n",
    "    gs = gridspec.GridSpec(sample_grid, sample_grid)\n",
    "    gs.update(wspace=0.05, hspace=0.05)\n",
    "\n",
    "    for i, sample in enumerate(samples):\n",
    "        ax = plt.subplot(gs[i])\n",
    "        plt.axis(\"off\")\n",
    "        ax.set_xticklabels([])\n",
    "        ax.set_yticklabels([])\n",
    "        ax.set_aspect(\"equal\")\n",
    "        plt.imshow(sample.reshape(28, 28), cmap=\"Greys_r\")\n",
    "        \n",
    "    plt.show()\n",
    "    plt.pause(0.001)\n",
    "\n",
    "    return fig"
   ]
  },
  {
   "cell_type": "code",
   "execution_count": null,
   "metadata": {},
   "outputs": [],
   "source": [
    "iterations = 100000\n",
    "log_every = 10000\n",
    "\n",
    "plt.ion()\n",
    "\n",
    "with tf.Session() as session:\n",
    "    session.run(tf.global_variables_initializer())\n",
    "\n",
    "    for iteration in range(iterations):\n",
    "        batch_X, _ = mnist.train.next_batch(batch_size)\n",
    "        batch_noise_D = sample_noise(batch_size, noise_size)\n",
    "        batch_noise_G = sample_noise(batch_size, noise_size)\n",
    "\n",
    "        _, _ = session.run([D_loss, D_optimizer], feed_dict={X: batch_X, Z: batch_noise_D})\n",
    "\n",
    "        batch_noise_G = sample_noise(batch_size, noise_size)\n",
    "\n",
    "        _, _ = session.run([G_loss, G_optimizer], feed_dict={Z: batch_noise_G})\n",
    "\n",
    "        if iteration % log_every == log_every - 1:\n",
    "            print(iteration + 1)\n",
    "            samples, = session.run([G], feed_dict={Z: sample_noise(sample_size, noise_size)})\n",
    "            plot_samples(samples)"
   ]
  }
 ],
 "metadata": {
  "kernelspec": {
   "display_name": "Python 2",
   "language": "python",
   "name": "python2"
  },
  "language_info": {
   "codemirror_mode": {
    "name": "ipython",
    "version": 2
   },
   "file_extension": ".py",
   "mimetype": "text/x-python",
   "name": "python",
   "nbconvert_exporter": "python",
   "pygments_lexer": "ipython2",
   "version": "2.7.12"
  }
 },
 "nbformat": 4,
 "nbformat_minor": 2
}
