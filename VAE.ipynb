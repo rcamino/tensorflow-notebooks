{
 "cells": [
  {
   "cell_type": "code",
   "execution_count": null,
   "metadata": {
    "collapsed": true
   },
   "outputs": [],
   "source": [
    "import tensorflow as tf\n",
    "import numpy as np\n",
    "import matplotlib.pyplot as plt\n",
    "import matplotlib.gridspec as gridspec\n",
    "\n",
    "import datetime\n",
    "\n",
    "from __future__ import print_function\n",
    "\n",
    "%matplotlib inline"
   ]
  },
  {
   "cell_type": "code",
   "execution_count": null,
   "metadata": {},
   "outputs": [],
   "source": [
    "from tensorflow.examples.tutorials.mnist import input_data\n",
    "mnist = input_data.read_data_sets(\"data/MNIST\", one_hot=True)"
   ]
  },
  {
   "cell_type": "code",
   "execution_count": null,
   "metadata": {
    "collapsed": true
   },
   "outputs": [],
   "source": [
    "image_size = mnist.train.images.shape[1]"
   ]
  },
  {
   "cell_type": "code",
   "execution_count": null,
   "metadata": {
    "collapsed": true
   },
   "outputs": [],
   "source": [
    "batch_size = 128\n",
    "noise_size = 100\n",
    "hidden_size = 128"
   ]
  },
  {
   "cell_type": "code",
   "execution_count": null,
   "metadata": {
    "collapsed": true
   },
   "outputs": [],
   "source": [
    "with tf.variable_scope(\"E\"):\n",
    "    with tf.variable_scope(\"Layer_1\"):\n",
    "        W = tf.get_variable(\"W\", [image_size, hidden_size], dtype=tf.float32,\n",
    "                            initializer=tf.contrib.layers.xavier_initializer(seed=1))\n",
    "\n",
    "        b = tf.get_variable(\"b\", [hidden_size], dtype=tf.float32,\n",
    "                            initializer=tf.zeros_initializer())\n",
    "\n",
    "    with tf.variable_scope(\"Layer_mean\"):\n",
    "        W_mean = tf.get_variable(\"W\", [hidden_size, noise_size], dtype=tf.float32,\n",
    "                                 initializer=tf.contrib.layers.xavier_initializer(seed=1))\n",
    "\n",
    "        b_mean = tf.get_variable(\"b\", [noise_size], dtype=tf.float32,\n",
    "                                 initializer=tf.zeros_initializer())\n",
    "\n",
    "    with tf.variable_scope(\"Layer_logvar\"):\n",
    "        W_logvar = tf.get_variable(\"W\", [hidden_size, noise_size], dtype=tf.float32,\n",
    "                                   initializer=tf.contrib.layers.xavier_initializer(seed=1))\n",
    "\n",
    "        b_logvar = tf.get_variable(\"b\", [noise_size], dtype=tf.float32,\n",
    "                                   initializer=tf.zeros_initializer())\n",
    "\n",
    "def encoder(images):\n",
    "    with tf.variable_scope(\"E\"):\n",
    "        with tf.variable_scope(\"Layer_1\"):\n",
    "            Z = tf.add(tf.matmul(images, W, name=\"matmul\"), b, name=\"Z\")\n",
    "            A = tf.nn.relu(Z, name=\"A\")\n",
    "\n",
    "        with tf.variable_scope(\"Layer_mean\"):\n",
    "            mean = tf.add(tf.matmul(A, W_mean, name=\"matmul\"), b_mean, name=\"mean\")\n",
    "\n",
    "        with tf.variable_scope(\"Layer_logvar\"):\n",
    "            logvar = tf.add(tf.matmul(A, W_logvar, name=\"matmul\"), b_logvar, name=\"logvar\")\n",
    "            \n",
    "    return mean, logvar"
   ]
  },
  {
   "cell_type": "code",
   "execution_count": null,
   "metadata": {
    "collapsed": true
   },
   "outputs": [],
   "source": [
    "def reparametrize(mean, logvar):\n",
    "    with tf.variable_scope(\"Z\"):\n",
    "        return mean + tf.random_normal([batch_size, noise_size], name=\"noise\") * tf.exp(logvar / 2)"
   ]
  },
  {
   "cell_type": "code",
   "execution_count": null,
   "metadata": {
    "collapsed": true
   },
   "outputs": [],
   "source": [
    "with tf.variable_scope(\"D\"):\n",
    "    with tf.variable_scope(\"Layer_1\"):\n",
    "        W1 = tf.get_variable(\"W\", [noise_size, hidden_size], dtype=tf.float32,\n",
    "                             initializer=tf.contrib.layers.xavier_initializer(seed=1))\n",
    "\n",
    "        b1 = tf.get_variable(\"b\", [hidden_size], dtype=tf.float32,\n",
    "                             initializer=tf.zeros_initializer())\n",
    "\n",
    "    with tf.variable_scope(\"Layer_2\"):\n",
    "        W2 = tf.get_variable(\"W\", [hidden_size, image_size], dtype=tf.float32,\n",
    "                             initializer=tf.contrib.layers.xavier_initializer(seed=1))\n",
    "\n",
    "        b2 = tf.get_variable(\"b\", [image_size], dtype=tf.float32,\n",
    "                             initializer=tf.zeros_initializer())\n",
    "\n",
    "def decoder(noise):\n",
    "    with tf.variable_scope(\"D\"):\n",
    "        with tf.variable_scope(\"Layer_1\"):\n",
    "            Z1 = tf.add(tf.matmul(noise, W1, name=\"matmul\"), b1, name=\"Z\")\n",
    "            A1 = tf.nn.relu(Z1, name=\"A\")\n",
    "\n",
    "        with tf.variable_scope(\"Layer_2\"):\n",
    "            Z2 = tf.add(tf.matmul(A1, W2, name=\"matmul\"), b2, name=\"Z\")\n",
    "            A2 = tf.nn.sigmoid(Z2, name=\"A\")\n",
    "            \n",
    "    return Z2, A2"
   ]
  },
  {
   "cell_type": "code",
   "execution_count": null,
   "metadata": {
    "collapsed": true
   },
   "outputs": [],
   "source": [
    "sample_size = 16\n",
    "sample_grid = int(np.ceil(np.sqrt(sample_size)))"
   ]
  },
  {
   "cell_type": "code",
   "execution_count": null,
   "metadata": {},
   "outputs": [],
   "source": [
    "images = tf.placeholder(dtype=tf.float32, shape=[None, image_size], name=\"images\")\n",
    "sample_noise = tf.placeholder(dtype=tf.float32, shape=[None, noise_size], name=\"sample_noise\")\n",
    "\n",
    "mean, logvar = encoder(images)\n",
    "noise = reparametrize(mean, logvar)\n",
    "logits, probabilities = decoder(noise)\n",
    "    \n",
    "with tf.variable_scope(\"sample\"):\n",
    "    sample_logits, sample_probabilities = decoder(sample_noise)\n",
    "    \n",
    "with tf.variable_scope(\"optimizer\"):\n",
    "    with tf.variable_scope(\"recontruction_loss\"):\n",
    "        recontruction_loss = tf.reduce_sum(\n",
    "            tf.nn.sigmoid_cross_entropy_with_logits(logits=logits, labels=images), 1)\n",
    "\n",
    "    with tf.variable_scope(\"kl_loss\"):\n",
    "        kl_loss = 0.5 * tf.reduce_sum(tf.exp(logvar) + mean ** 2 - 1. - logvar, 1)\n",
    "\n",
    "    with tf.variable_scope(\"loss\"):\n",
    "        loss = tf.reduce_mean(recontruction_loss + kl_loss)\n",
    "\n",
    "    optimizer = tf.train.AdamOptimizer().minimize(loss)"
   ]
  },
  {
   "cell_type": "code",
   "execution_count": null,
   "metadata": {
    "collapsed": true
   },
   "outputs": [],
   "source": [
    "def plot_samples(samples):\n",
    "    fig = plt.figure(figsize=(4, 4))\n",
    "    gs = gridspec.GridSpec(sample_grid, sample_grid)\n",
    "    gs.update(wspace=0.05, hspace=0.05)\n",
    "\n",
    "    for i, sample in enumerate(samples):\n",
    "        ax = plt.subplot(gs[i])\n",
    "        plt.axis(\"off\")\n",
    "        ax.set_xticklabels([])\n",
    "        ax.set_yticklabels([])\n",
    "        ax.set_aspect(\"equal\")\n",
    "        plt.imshow(sample.reshape(28, 28), cmap=\"Greys_r\")\n",
    "        \n",
    "    plt.show()\n",
    "    plt.pause(0.001)\n",
    "\n",
    "    return fig"
   ]
  },
  {
   "cell_type": "code",
   "execution_count": null,
   "metadata": {},
   "outputs": [],
   "source": [
    "iterations = 500000\n",
    "log_every = 10000\n",
    "\n",
    "plt.ion()\n",
    "\n",
    "with tf.Session() as session:\n",
    "    session.run(tf.global_variables_initializer())\n",
    "\n",
    "    for iteration in range(iterations):\n",
    "        batch_images, _ = mnist.train.next_batch(batch_size)\n",
    "\n",
    "        session.run([optimizer], feed_dict={images: batch_images})\n",
    "\n",
    "        if iteration % log_every == log_every - 1:\n",
    "            print(iteration + 1)\n",
    "            samples, = session.run([sample_probabilities],\n",
    "                                   feed_dict={sample_noise: np.random.normal(size=(sample_size, noise_size))})\n",
    "            plot_samples(samples)"
   ]
  }
 ],
 "metadata": {
  "kernelspec": {
   "display_name": "Python 2",
   "language": "python",
   "name": "python2"
  },
  "language_info": {
   "codemirror_mode": {
    "name": "ipython",
    "version": 2
   },
   "file_extension": ".py",
   "mimetype": "text/x-python",
   "name": "python",
   "nbconvert_exporter": "python",
   "pygments_lexer": "ipython2",
   "version": "2.7.12"
  }
 },
 "nbformat": 4,
 "nbformat_minor": 2
}
